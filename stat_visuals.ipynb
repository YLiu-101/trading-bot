{
 "cells": [
  {
   "cell_type": "markdown",
   "metadata": {},
   "source": [
    "# Experimenting Around"
   ]
  },
  {
   "cell_type": "markdown",
   "metadata": {},
   "source": [
    "## First Trades"
   ]
  },
  {
   "cell_type": "code",
   "execution_count": 2,
   "metadata": {},
   "outputs": [],
   "source": [
    "import os\n",
    "import asyncio\n",
    "import threading\n",
    "from multiprocessing import Process\n",
    "import numpy as np\n",
    "from alpaca.trading.client import TradingClient\n",
    "from alpaca.trading.enums import OrderSide, TimeInForce\n",
    "from alpaca.trading.requests import MarketOrderRequest\n",
    "from alpaca.trading.stream import TradingStream\n",
    "import nest_asyncio # used for running event loops within Jupyter's event loop\n",
    "import math"
   ]
  },
  {
   "cell_type": "code",
   "execution_count": 3,
   "metadata": {},
   "outputs": [
    {
     "name": "stdout",
     "output_type": "stream",
     "text": [
      "id                            54404f7b-795a-4436-a230-7eb13b70da1b\n",
      "account_number                PA3A0K6YRNTJ\n",
      "status                        AccountStatus.ACTIVE\n",
      "crypto_status                 AccountStatus.ACTIVE\n",
      "currency                      USD\n",
      "buying_power                  124338.7\n",
      "regt_buying_power             124338.7\n",
      "daytrading_buying_power       0\n",
      "non_marginable_buying_power   41536.9\n",
      "cash                          24461.99\n",
      "accrued_fees                  0\n",
      "pending_transfer_out          None\n",
      "pending_transfer_in           None\n",
      "portfolio_value               99876.71\n",
      "pattern_day_trader            False\n",
      "trading_blocked               False\n",
      "transfers_blocked             False\n",
      "account_blocked               False\n",
      "created_at                    2024-11-29 16:10:55.429486+00:00\n",
      "trade_suspended_by_user       False\n",
      "multiplier                    2\n",
      "shorting_enabled              True\n",
      "equity                        99876.71\n",
      "last_equity                   99340.39\n",
      "long_market_value             75414.72\n",
      "short_market_value            0\n",
      "initial_margin                37707.36\n",
      "maintenance_margin            22624.42\n",
      "last_maintenance_margin       33642\n",
      "sma                           43600.2\n",
      "daytrade_count                1\n",
      "options_buying_power          77252.29\n",
      "options_approved_level        2\n",
      "options_trading_level         2\n"
     ]
    }
   ],
   "source": [
    "nest_asyncio.apply() # allows event loops to be run within jupyter\n",
    "\n",
    "api_key = os.getenv(\"Public_Key\")\n",
    "secret_key = os.getenv(\"Secret\")\n",
    "client = TradingClient(api_key,secret_key,paper=True)\n",
    "account = dict(client.get_account())\n",
    "for k,v in account.items():\n",
    "    print(f\"{k:30}{v}\")\n",
    "\n"
   ]
  },
  {
   "cell_type": "code",
   "execution_count": 10,
   "metadata": {},
   "outputs": [
    {
     "name": "stdout",
     "output_type": "stream",
     "text": [
      "id=UUID('80bd6124-987c-4b5c-afb5-ba19d55817ad') client_order_id='c97a1c10-fcda-4a7b-b2b8-d4cb41d14f7a' created_at=datetime.datetime(2024, 12, 24, 15, 40, 14, 151263, tzinfo=TzInfo(UTC)) updated_at=datetime.datetime(2024, 12, 24, 15, 40, 14, 151669, tzinfo=TzInfo(UTC)) submitted_at=datetime.datetime(2024, 12, 24, 15, 40, 14, 151263, tzinfo=TzInfo(UTC)) filled_at=None expired_at=None canceled_at=None failed_at=None replaced_at=None replaced_by=None replaces=None asset_id=UUID('03fb07bb-5db1-4077-8dea-5d711b272625') symbol='AMD' asset_class=<AssetClass.US_EQUITY: 'us_equity'> notional=None qty='100' filled_qty='0' filled_avg_price=None order_class=<OrderClass.SIMPLE: 'simple'> order_type=<OrderType.MARKET: 'market'> type=<OrderType.MARKET: 'market'> side=<OrderSide.SELL: 'sell'> time_in_force=<TimeInForce.DAY: 'day'> limit_price=None stop_price=None status=<OrderStatus.PENDING_NEW: 'pending_new'> extended_hours=False legs=None trail_percent=None trail_price=None hwm=None position_intent=<PositionIntent.SELL_TO_CLOSE: 'sell_to_close'>\n"
     ]
    }
   ],
   "source": [
    "order_data = MarketOrderRequest(\n",
    "    symbol = \"AMD\",\n",
    "    qty = 100,\n",
    "    side = OrderSide.SELL,\n",
    "    time_in_force = TimeInForce.DAY\n",
    ")\n",
    "    \n",
    "order = client.submit_order(order_data = order_data) # places the order\n",
    "print(order)\n",
    "trades = TradingStream(api_key,secret_key,paper=True)\n",
    "async def trade_status(data):\n",
    "    print(data)\n",
    "async def main():\n",
    "    trades.subscribe_trade_updates(trade_status)\n",
    "    trades.run()  # Await to handle the asynchronous nature properly\n",
    "def x():\n",
    "    asyncio.run(main())\n",
    "thread = Process(target = main)\n",
    "\n",
    "# Run the main function\n",
    "thread.start()\n",
    "thread.join()\n",
    "# await main()\n"
   ]
  },
  {
   "cell_type": "markdown",
   "metadata": {},
   "source": [
    "## Trying Some Actual Strategies/Visualizations"
   ]
  },
  {
   "cell_type": "code",
   "execution_count": 5,
   "metadata": {},
   "outputs": [
    {
     "name": "stdout",
     "output_type": "stream",
     "text": [
      "c:\\Users\\kaili\\Desktop\\Coding Projects\\trading-bot\\venv\\Scripts\\python.exe\n",
      "C:\\Users\\kaili\\AppData\\Local\\Programs\\Python\\Python312\\python.exe\n"
     ]
    }
   ],
   "source": [
    "!where python  \n"
   ]
  },
  {
   "cell_type": "code",
   "execution_count": 6,
   "metadata": {},
   "outputs": [
    {
     "name": "stdout",
     "output_type": "stream",
     "text": [
      "['adjusted_sortino', 'autocorr_penalty', 'avg_loss', 'avg_return', 'avg_win', 'best', 'cagr', 'calmar', 'common_sense_ratio', 'comp', 'compare', 'compsum', 'conditional_value_at_risk', 'consecutive_losses', 'consecutive_wins', 'cpc_index', 'cvar', 'distribution', 'drawdown_details', 'expected_return', 'expected_shortfall', 'exposure', 'gain_to_pain_ratio', 'geometric_mean', 'ghpr', 'greeks', 'implied_volatility', 'information_ratio', 'kelly_criterion', 'kurtosis', 'max_drawdown', 'monthly_returns', 'omega', 'outlier_loss_ratio', 'outlier_win_ratio', 'outliers', 'payoff_ratio', 'pct_rank', 'probabilistic_adjusted_sortino_ratio', 'probabilistic_ratio', 'probabilistic_sharpe_ratio', 'probabilistic_sortino_ratio', 'profit_factor', 'profit_ratio', 'r2', 'r_squared', 'rar', 'recovery_factor', 'remove_outliers', 'risk_of_ruin', 'risk_return_ratio', 'rolling_greeks', 'rolling_sharpe', 'rolling_sortino', 'rolling_volatility', 'ror', 'serenity_index', 'sharpe', 'skew', 'smart_sharpe', 'smart_sortino', 'sortino', 'tail_ratio', 'to_drawdown_series', 'treynor_ratio', 'ulcer_index', 'ulcer_performance_index', 'upi', 'value_at_risk', 'var', 'volatility', 'warn', 'win_loss_ratio', 'win_rate', 'worst']\n"
     ]
    }
   ],
   "source": [
    "import quantstats as qs\n",
    "import yfinance\n",
    "\n",
    "stock = \"MCD\"\n",
    "portfolio = qs.utils.download_returns(stock,period='5y')\n",
    "print([f for f in dir(qs.stats) if f[0]!=\"_\"])"
   ]
  }
 ],
 "metadata": {
  "kernelspec": {
   "display_name": "venv",
   "language": "python",
   "name": "python3"
  },
  "language_info": {
   "codemirror_mode": {
    "name": "ipython",
    "version": 3
   },
   "file_extension": ".py",
   "mimetype": "text/x-python",
   "name": "python",
   "nbconvert_exporter": "python",
   "pygments_lexer": "ipython3",
   "version": "3.12.4"
  }
 },
 "nbformat": 4,
 "nbformat_minor": 2
}
