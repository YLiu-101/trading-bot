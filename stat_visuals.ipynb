{
 "cells": [
  {
   "cell_type": "markdown",
   "metadata": {},
   "source": [
    "# Experimenting Around"
   ]
  },
  {
   "cell_type": "markdown",
   "metadata": {},
   "source": [
    "## First Trades"
   ]
  },
  {
   "cell_type": "code",
   "execution_count": 1,
   "metadata": {},
   "outputs": [],
   "source": [
    "import os\n",
    "import asyncio\n",
    "import threading\n",
    "from multiprocessing import Process\n",
    "import numpy as np\n",
    "from alpaca.trading.client import TradingClient\n",
    "from alpaca.trading.enums import OrderSide, TimeInForce\n",
    "from alpaca.trading.requests import MarketOrderRequest\n",
    "from alpaca.trading.stream import TradingStream\n",
    "import nest_asyncio # used for running event loops within Jupyter's event loop\n",
    "import math"
   ]
  },
  {
   "cell_type": "code",
   "execution_count": 2,
   "metadata": {},
   "outputs": [
    {
     "name": "stdout",
     "output_type": "stream",
     "text": [
      "id                            54404f7b-795a-4436-a230-7eb13b70da1b\n",
      "account_number                PA3A0K6YRNTJ\n",
      "status                        AccountStatus.ACTIVE\n",
      "crypto_status                 AccountStatus.ACTIVE\n",
      "currency                      USD\n",
      "buying_power                  5875.26\n",
      "regt_buying_power             5875.26\n",
      "daytrading_buying_power       0\n",
      "non_marginable_buying_power   937.63\n",
      "cash                          87103.15\n",
      "accrued_fees                  0\n",
      "pending_transfer_out          None\n",
      "pending_transfer_in           None\n",
      "portfolio_value               99610.15\n",
      "pattern_day_trader            False\n",
      "trading_blocked               False\n",
      "transfers_blocked             False\n",
      "account_blocked               False\n",
      "created_at                    2024-11-29 16:10:55.429486+00:00\n",
      "trade_suspended_by_user       False\n",
      "multiplier                    2\n",
      "shorting_enabled              True\n",
      "equity                        99610.15\n",
      "last_equity                   99732.15\n",
      "long_market_value             12507\n",
      "short_market_value            0\n",
      "initial_margin                96672.52\n",
      "maintenance_margin            3752.1\n",
      "last_maintenance_margin       3788.7\n",
      "sma                           99340.39\n",
      "daytrade_count                1\n",
      "options_buying_power          5439.03\n",
      "options_approved_level        2\n",
      "options_trading_level         2\n"
     ]
    }
   ],
   "source": [
    "nest_asyncio.apply() # allows event loops to be run within jupyter\n",
    "\n",
    "api_key = os.getenv(\"Public_Key\")\n",
    "secret_key = os.getenv(\"Secret\")\n",
    "client = TradingClient(api_key,secret_key,paper=True)\n",
    "account = dict(client.get_account())\n",
    "for k,v in account.items():\n",
    "    print(f\"{k:30}{v}\")\n",
    "\n"
   ]
  },
  {
   "cell_type": "code",
   "execution_count": null,
   "metadata": {},
   "outputs": [],
   "source": [
    "client.get"
   ]
  },
  {
   "cell_type": "code",
   "execution_count": 3,
   "metadata": {},
   "outputs": [
    {
     "ename": "APIError",
     "evalue": "{\"buying_power\":\"5875.26\",\"code\":40310000,\"cost_basis\":\"60103\",\"message\":\"insufficient buying power\"}",
     "output_type": "error",
     "traceback": [
      "\u001b[1;31m---------------------------------------------------------------------------\u001b[0m",
      "\u001b[1;31mHTTPError\u001b[0m                                 Traceback (most recent call last)",
      "File \u001b[1;32mc:\\Users\\kaili\\Desktop\\Coding Projects\\trading-bot\\venv\\Lib\\site-packages\\alpaca\\common\\rest.py:198\u001b[0m, in \u001b[0;36mRESTClient._one_request\u001b[1;34m(self, method, url, opts, retry)\u001b[0m\n\u001b[0;32m    197\u001b[0m \u001b[38;5;28;01mtry\u001b[39;00m:\n\u001b[1;32m--> 198\u001b[0m     \u001b[43mresponse\u001b[49m\u001b[38;5;241;43m.\u001b[39;49m\u001b[43mraise_for_status\u001b[49m\u001b[43m(\u001b[49m\u001b[43m)\u001b[49m\n\u001b[0;32m    199\u001b[0m \u001b[38;5;28;01mexcept\u001b[39;00m HTTPError \u001b[38;5;28;01mas\u001b[39;00m http_error:\n\u001b[0;32m    200\u001b[0m     \u001b[38;5;66;03m# retry if we hit Rate Limit\u001b[39;00m\n",
      "File \u001b[1;32mc:\\Users\\kaili\\Desktop\\Coding Projects\\trading-bot\\venv\\Lib\\site-packages\\requests\\models.py:1024\u001b[0m, in \u001b[0;36mResponse.raise_for_status\u001b[1;34m(self)\u001b[0m\n\u001b[0;32m   1023\u001b[0m \u001b[38;5;28;01mif\u001b[39;00m http_error_msg:\n\u001b[1;32m-> 1024\u001b[0m     \u001b[38;5;28;01mraise\u001b[39;00m HTTPError(http_error_msg, response\u001b[38;5;241m=\u001b[39m\u001b[38;5;28mself\u001b[39m)\n",
      "\u001b[1;31mHTTPError\u001b[0m: 403 Client Error: Forbidden for url: https://paper-api.alpaca.markets/v2/orders",
      "\nDuring handling of the above exception, another exception occurred:\n",
      "\u001b[1;31mAPIError\u001b[0m                                  Traceback (most recent call last)",
      "Cell \u001b[1;32mIn[3], line 8\u001b[0m\n\u001b[0;32m      1\u001b[0m order_data \u001b[38;5;241m=\u001b[39m MarketOrderRequest(\n\u001b[0;32m      2\u001b[0m     symbol \u001b[38;5;241m=\u001b[39m \u001b[38;5;124m\"\u001b[39m\u001b[38;5;124mSPY\u001b[39m\u001b[38;5;124m\"\u001b[39m,\n\u001b[0;32m      3\u001b[0m     qty \u001b[38;5;241m=\u001b[39m \u001b[38;5;241m100\u001b[39m,\n\u001b[0;32m      4\u001b[0m     side \u001b[38;5;241m=\u001b[39m OrderSide\u001b[38;5;241m.\u001b[39mBUY,\n\u001b[0;32m      5\u001b[0m     time_in_force \u001b[38;5;241m=\u001b[39m TimeInForce\u001b[38;5;241m.\u001b[39mDAY\n\u001b[0;32m      6\u001b[0m )\n\u001b[1;32m----> 8\u001b[0m order \u001b[38;5;241m=\u001b[39m \u001b[43mclient\u001b[49m\u001b[38;5;241;43m.\u001b[39;49m\u001b[43msubmit_order\u001b[49m\u001b[43m(\u001b[49m\u001b[43morder_data\u001b[49m\u001b[43m \u001b[49m\u001b[38;5;241;43m=\u001b[39;49m\u001b[43m \u001b[49m\u001b[43morder_data\u001b[49m\u001b[43m)\u001b[49m \u001b[38;5;66;03m# places the order\u001b[39;00m\n\u001b[0;32m     11\u001b[0m trades \u001b[38;5;241m=\u001b[39m TradingStream(api_key,secret_key,paper\u001b[38;5;241m=\u001b[39m\u001b[38;5;28;01mTrue\u001b[39;00m) \u001b[38;5;66;03m# Websocket client\u001b[39;00m\n\u001b[0;32m     12\u001b[0m \u001b[38;5;28mprint\u001b[39m(\u001b[38;5;28mtype\u001b[39m(trades))\n",
      "File \u001b[1;32mc:\\Users\\kaili\\Desktop\\Coding Projects\\trading-bot\\venv\\Lib\\site-packages\\alpaca\\trading\\client.py:100\u001b[0m, in \u001b[0;36mTradingClient.submit_order\u001b[1;34m(self, order_data)\u001b[0m\n\u001b[0;32m     91\u001b[0m \u001b[38;5;250m\u001b[39m\u001b[38;5;124;03m\"\"\"Creates an order to buy or sell an asset.\u001b[39;00m\n\u001b[0;32m     92\u001b[0m \n\u001b[0;32m     93\u001b[0m \u001b[38;5;124;03mArgs:\u001b[39;00m\n\u001b[1;32m   (...)\u001b[0m\n\u001b[0;32m     97\u001b[0m \u001b[38;5;124;03m    alpaca.trading.models.Order: The resulting submitted order.\u001b[39;00m\n\u001b[0;32m     98\u001b[0m \u001b[38;5;124;03m\"\"\"\u001b[39;00m\n\u001b[0;32m     99\u001b[0m data \u001b[38;5;241m=\u001b[39m order_data\u001b[38;5;241m.\u001b[39mto_request_fields()\n\u001b[1;32m--> 100\u001b[0m response \u001b[38;5;241m=\u001b[39m \u001b[38;5;28;43mself\u001b[39;49m\u001b[38;5;241;43m.\u001b[39;49m\u001b[43mpost\u001b[49m\u001b[43m(\u001b[49m\u001b[38;5;124;43m\"\u001b[39;49m\u001b[38;5;124;43m/orders\u001b[39;49m\u001b[38;5;124;43m\"\u001b[39;49m\u001b[43m,\u001b[49m\u001b[43m \u001b[49m\u001b[43mdata\u001b[49m\u001b[43m)\u001b[49m\n\u001b[0;32m    102\u001b[0m \u001b[38;5;28;01mif\u001b[39;00m \u001b[38;5;28mself\u001b[39m\u001b[38;5;241m.\u001b[39m_use_raw_data:\n\u001b[0;32m    103\u001b[0m     \u001b[38;5;28;01mreturn\u001b[39;00m response\n",
      "File \u001b[1;32mc:\\Users\\kaili\\Desktop\\Coding Projects\\trading-bot\\venv\\Lib\\site-packages\\alpaca\\common\\rest.py:240\u001b[0m, in \u001b[0;36mRESTClient.post\u001b[1;34m(self, path, data)\u001b[0m\n\u001b[0;32m    227\u001b[0m \u001b[38;5;28;01mdef\u001b[39;00m \u001b[38;5;21mpost\u001b[39m(\n\u001b[0;32m    228\u001b[0m     \u001b[38;5;28mself\u001b[39m, path: \u001b[38;5;28mstr\u001b[39m, data: Optional[Union[\u001b[38;5;28mdict\u001b[39m, List[\u001b[38;5;28mdict\u001b[39m]]] \u001b[38;5;241m=\u001b[39m \u001b[38;5;28;01mNone\u001b[39;00m\n\u001b[0;32m    229\u001b[0m ) \u001b[38;5;241m-\u001b[39m\u001b[38;5;241m>\u001b[39m HTTPResult:\n\u001b[0;32m    230\u001b[0m \u001b[38;5;250m    \u001b[39m\u001b[38;5;124;03m\"\"\"Performs a single POST request\u001b[39;00m\n\u001b[0;32m    231\u001b[0m \n\u001b[0;32m    232\u001b[0m \u001b[38;5;124;03m    Args:\u001b[39;00m\n\u001b[1;32m   (...)\u001b[0m\n\u001b[0;32m    238\u001b[0m \u001b[38;5;124;03m        dict: The response\u001b[39;00m\n\u001b[0;32m    239\u001b[0m \u001b[38;5;124;03m    \"\"\"\u001b[39;00m\n\u001b[1;32m--> 240\u001b[0m     \u001b[38;5;28;01mreturn\u001b[39;00m \u001b[38;5;28;43mself\u001b[39;49m\u001b[38;5;241;43m.\u001b[39;49m\u001b[43m_request\u001b[49m\u001b[43m(\u001b[49m\u001b[38;5;124;43m\"\u001b[39;49m\u001b[38;5;124;43mPOST\u001b[39;49m\u001b[38;5;124;43m\"\u001b[39;49m\u001b[43m,\u001b[49m\u001b[43m \u001b[49m\u001b[43mpath\u001b[49m\u001b[43m,\u001b[49m\u001b[43m \u001b[49m\u001b[43mdata\u001b[49m\u001b[43m)\u001b[49m\n",
      "File \u001b[1;32mc:\\Users\\kaili\\Desktop\\Coding Projects\\trading-bot\\venv\\Lib\\site-packages\\alpaca\\common\\rest.py:131\u001b[0m, in \u001b[0;36mRESTClient._request\u001b[1;34m(self, method, path, data, base_url, api_version)\u001b[0m\n\u001b[0;32m    129\u001b[0m \u001b[38;5;28;01mwhile\u001b[39;00m retry \u001b[38;5;241m>\u001b[39m\u001b[38;5;241m=\u001b[39m \u001b[38;5;241m0\u001b[39m:\n\u001b[0;32m    130\u001b[0m     \u001b[38;5;28;01mtry\u001b[39;00m:\n\u001b[1;32m--> 131\u001b[0m         \u001b[38;5;28;01mreturn\u001b[39;00m \u001b[38;5;28;43mself\u001b[39;49m\u001b[38;5;241;43m.\u001b[39;49m\u001b[43m_one_request\u001b[49m\u001b[43m(\u001b[49m\u001b[43mmethod\u001b[49m\u001b[43m,\u001b[49m\u001b[43m \u001b[49m\u001b[43murl\u001b[49m\u001b[43m,\u001b[49m\u001b[43m \u001b[49m\u001b[43mopts\u001b[49m\u001b[43m,\u001b[49m\u001b[43m \u001b[49m\u001b[43mretry\u001b[49m\u001b[43m)\u001b[49m\n\u001b[0;32m    132\u001b[0m     \u001b[38;5;28;01mexcept\u001b[39;00m RetryException:\n\u001b[0;32m    133\u001b[0m         time\u001b[38;5;241m.\u001b[39msleep(\u001b[38;5;28mself\u001b[39m\u001b[38;5;241m.\u001b[39m_retry_wait)\n",
      "File \u001b[1;32mc:\\Users\\kaili\\Desktop\\Coding Projects\\trading-bot\\venv\\Lib\\site-packages\\alpaca\\common\\rest.py:207\u001b[0m, in \u001b[0;36mRESTClient._one_request\u001b[1;34m(self, method, url, opts, retry)\u001b[0m\n\u001b[0;32m    204\u001b[0m     \u001b[38;5;66;03m# raise API error for all other errors\u001b[39;00m\n\u001b[0;32m    205\u001b[0m     error \u001b[38;5;241m=\u001b[39m response\u001b[38;5;241m.\u001b[39mtext\n\u001b[1;32m--> 207\u001b[0m     \u001b[38;5;28;01mraise\u001b[39;00m APIError(error, http_error)\n\u001b[0;32m    209\u001b[0m \u001b[38;5;28;01mif\u001b[39;00m response\u001b[38;5;241m.\u001b[39mtext \u001b[38;5;241m!=\u001b[39m \u001b[38;5;124m\"\u001b[39m\u001b[38;5;124m\"\u001b[39m:\n\u001b[0;32m    210\u001b[0m     \u001b[38;5;28;01mreturn\u001b[39;00m response\u001b[38;5;241m.\u001b[39mjson()\n",
      "\u001b[1;31mAPIError\u001b[0m: {\"buying_power\":\"5875.26\",\"code\":40310000,\"cost_basis\":\"60103\",\"message\":\"insufficient buying power\"}"
     ]
    }
   ],
   "source": [
    "order_data = MarketOrderRequest(\n",
    "    symbol = \"SPY\",\n",
    "    qty = 100,\n",
    "    side = OrderSide.BUY,\n",
    "    time_in_force = TimeInForce.DAY\n",
    ")\n",
    "    \n",
    "order = client.submit_order(order_data = order_data) # places the order\n",
    "\n",
    "\n",
    "trades = TradingStream(api_key,secret_key,paper=True) # Websocket client\n",
    "print(type(trades))\n",
    "async def trade_status(data):\n",
    "    print(data)\n",
    "async def main():\n",
    "    trades.subscribe_trade_updates(trade_status)\n",
    "    trades.run()  # Await to handle the asynchronous nature properly\n",
    "\n",
    "# await main()\n"
   ]
  },
  {
   "cell_type": "code",
   "execution_count": 4,
   "metadata": {},
   "outputs": [
    {
     "name": "stdout",
     "output_type": "stream",
     "text": [
      "Postions\n",
      "Symbol    Qty          Value\n",
      "----------------------------\n",
      "AMD       100       12511.00\n",
      "\n"
     ]
    }
   ],
   "source": [
    "assets = [asset for asset in client.get_all_positions()]\n",
    "positions = [(asset.symbol, asset.qty, asset.current_price) for asset in assets]\n",
    "print(\"Postions\")\n",
    "print(f\"{'Symbol':9}{'Qty':>4}{'Value':>15}\")\n",
    "print(\"-\" * 28)\n",
    "for position in positions:\n",
    "    print(f\"{position[0]:9}{position[1]:>4}{float(position[1]) * float(position[2]):>15.2f}\")\n",
    "\n",
    "client.close_all_positions(cancel_orders=True)\n",
    "print()"
   ]
  },
  {
   "cell_type": "markdown",
   "metadata": {},
   "source": [
    "## Trying Some Actual Strategies/Visualizations"
   ]
  },
  {
   "cell_type": "code",
   "execution_count": null,
   "metadata": {},
   "outputs": [
    {
     "name": "stdout",
     "output_type": "stream",
     "text": [
      "c:\\Users\\kaili\\Desktop\\Coding Projects\\trading-bot\\venv\\Scripts\\python.exe\n",
      "C:\\Users\\kaili\\AppData\\Local\\Programs\\Python\\Python312\\python.exe\n"
     ]
    }
   ],
   "source": [
    "!where python  \n"
   ]
  },
  {
   "cell_type": "code",
   "execution_count": null,
   "metadata": {},
   "outputs": [
    {
     "name": "stdout",
     "output_type": "stream",
     "text": [
      "['adjusted_sortino', 'autocorr_penalty', 'avg_loss', 'avg_return', 'avg_win', 'best', 'cagr', 'calmar', 'common_sense_ratio', 'comp', 'compare', 'compsum', 'conditional_value_at_risk', 'consecutive_losses', 'consecutive_wins', 'cpc_index', 'cvar', 'distribution', 'drawdown_details', 'expected_return', 'expected_shortfall', 'exposure', 'gain_to_pain_ratio', 'geometric_mean', 'ghpr', 'greeks', 'implied_volatility', 'information_ratio', 'kelly_criterion', 'kurtosis', 'max_drawdown', 'monthly_returns', 'omega', 'outlier_loss_ratio', 'outlier_win_ratio', 'outliers', 'payoff_ratio', 'pct_rank', 'probabilistic_adjusted_sortino_ratio', 'probabilistic_ratio', 'probabilistic_sharpe_ratio', 'probabilistic_sortino_ratio', 'profit_factor', 'profit_ratio', 'r2', 'r_squared', 'rar', 'recovery_factor', 'remove_outliers', 'risk_of_ruin', 'risk_return_ratio', 'rolling_greeks', 'rolling_sharpe', 'rolling_sortino', 'rolling_volatility', 'ror', 'serenity_index', 'sharpe', 'skew', 'smart_sharpe', 'smart_sortino', 'sortino', 'tail_ratio', 'to_drawdown_series', 'treynor_ratio', 'ulcer_index', 'ulcer_performance_index', 'upi', 'value_at_risk', 'var', 'volatility', 'warn', 'win_loss_ratio', 'win_rate', 'worst']\n"
     ]
    }
   ],
   "source": [
    "import quantstats as qs\n",
    "import yfinance\n",
    "\n",
    "stock = \"MCD\"\n",
    "portfolio = qs.utils.download_returns(stock,period='5y')    \n",
    "print([f for f in dir(qs.stats) if f[0]!=\"_\"])"
   ]
  }
 ],
 "metadata": {
  "kernelspec": {
   "display_name": "venv",
   "language": "python",
   "name": "python3"
  },
  "language_info": {
   "codemirror_mode": {
    "name": "ipython",
    "version": 3
   },
   "file_extension": ".py",
   "mimetype": "text/x-python",
   "name": "python",
   "nbconvert_exporter": "python",
   "pygments_lexer": "ipython3",
   "version": "3.12.4"
  }
 },
 "nbformat": 4,
 "nbformat_minor": 2
}
