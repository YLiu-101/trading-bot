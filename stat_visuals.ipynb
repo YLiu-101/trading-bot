{
 "cells": [
  {
   "cell_type": "markdown",
   "metadata": {},
   "source": [
    "# Experimenting Around"
   ]
  },
  {
   "cell_type": "markdown",
   "metadata": {},
   "source": [
    "## First Trades"
   ]
  },
  {
   "cell_type": "code",
   "execution_count": 1,
   "metadata": {},
   "outputs": [],
   "source": [
    "import os\n",
    "import asyncio\n",
    "import numpy as np\n",
    "from alpaca.trading.client import TradingClient\n",
    "from alpaca.trading.enums import OrderSide, TimeInForce\n",
    "from alpaca.trading.requests import MarketOrderRequest\n",
    "from alpaca.trading.stream import TradingStream\n",
    "import nest_asyncio\n",
    "import math"
   ]
  },
  {
   "cell_type": "code",
   "execution_count": null,
   "metadata": {},
   "outputs": [],
   "source": [
    "nest_asyncio.apply()\n",
    "\n",
    "api_key = os.getenv(\"Public_Key\")\n",
    "secret_key = os.getenv(\"Secret\")\n",
    "client = TradingClient(api_key,secret_key,paper=True)\n",
    "account = dict(client.get_account())\n",
    "for k,v in account.items():\n",
    "    print(f\"{k:30}{v}\")\n",
    "\n"
   ]
  },
  {
   "cell_type": "code",
   "execution_count": null,
   "metadata": {},
   "outputs": [],
   "source": [
    "order_data = MarketOrderRequest(\n",
    "    symbol = \"AMD\",\n",
    "    qty = 100,\n",
    "    side = OrderSide.BUY,\n",
    "    time_in_force = TimeInForce.DAY\n",
    ")\n",
    "\n",
    "order = client.submit_order(order_data = order_data)\n",
    "trades = TradingStream(api_key,secret_key,paper=True)\n",
    "async def trade_status(data):\n",
    "    print(data)\n",
    "async def main():\n",
    "    trades.subscribe_trade_updates(trade_status)\n",
    "    await trades.run()  # Await to handle the asynchronous nature properly\n",
    "\n",
    "# Run the main function\n",
    "await main()"
   ]
  }
 ],
 "metadata": {
  "kernelspec": {
   "display_name": "Python 3",
   "language": "python",
   "name": "python3"
  },
  "language_info": {
   "codemirror_mode": {
    "name": "ipython",
    "version": 3
   },
   "file_extension": ".py",
   "mimetype": "text/x-python",
   "name": "python",
   "nbconvert_exporter": "python",
   "pygments_lexer": "ipython3",
   "version": "3.12.4"
  }
 },
 "nbformat": 4,
 "nbformat_minor": 2
}
