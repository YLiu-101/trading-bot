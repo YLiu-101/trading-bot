{
 "cells": [
  {
   "cell_type": "markdown",
   "metadata": {},
   "source": [
    "# Playing Around with Quant Stats\n",
    "\n",
    "Just messing around with the functions and libraries to see what kind of functionalities are in here.\n",
    "\n",
    "Quanstats documentation/code is here:\n",
    "https://github.com/ranaroussi/quantstats\n"
   ]
  },
  {
   "cell_type": "code",
   "execution_count": 4,
   "metadata": {},
   "outputs": [],
   "source": [
    "import quantstats as qs"
   ]
  },
  {
   "cell_type": "code",
   "execution_count": 6,
   "metadata": {},
   "outputs": [
    {
     "name": "stdout",
     "output_type": "stream",
     "text": [
      "Date\n",
      "2019-12-30         NaN\n",
      "2019-12-31    0.002430\n",
      "2020-01-02    0.009352\n",
      "2020-01-03   -0.007572\n",
      "2020-01-06    0.003815\n",
      "Name: Close, dtype: float64\n"
     ]
    }
   ],
   "source": [
    "stock = \"SPY\"\n",
    "portfolio = qs.utils.download_returns(stock, period=\"5y\")\n",
    "print (portfolio.head())"
   ]
  },
  {
   "cell_type": "code",
   "execution_count": 7,
   "metadata": {},
   "outputs": [
    {
     "name": "stdout",
     "output_type": "stream",
     "text": [
      "Available Stats:\n",
      "['adjusted_sortino', 'autocorr_penalty', 'avg_loss', 'avg_return', 'avg_win', 'best', 'cagr', 'calmar', 'common_sense_ratio', 'comp', 'compare', 'compsum', 'conditional_value_at_risk', 'consecutive_losses', 'consecutive_wins', 'cpc_index', 'cvar', 'distribution', 'drawdown_details', 'expected_return', 'expected_shortfall', 'exposure', 'gain_to_pain_ratio', 'geometric_mean', 'ghpr', 'greeks', 'implied_volatility', 'information_ratio', 'kelly_criterion', 'kurtosis', 'max_drawdown', 'monthly_returns', 'omega', 'outlier_loss_ratio', 'outlier_win_ratio', 'outliers', 'payoff_ratio', 'pct_rank', 'probabilistic_adjusted_sortino_ratio', 'probabilistic_ratio', 'probabilistic_sharpe_ratio', 'probabilistic_sortino_ratio', 'profit_factor', 'profit_ratio', 'r2', 'r_squared', 'rar', 'recovery_factor', 'remove_outliers', 'risk_of_ruin', 'risk_return_ratio', 'rolling_greeks', 'rolling_sharpe', 'rolling_sortino', 'rolling_volatility', 'ror', 'serenity_index', 'sharpe', 'skew', 'smart_sharpe', 'smart_sortino', 'sortino', 'tail_ratio', 'to_drawdown_series', 'treynor_ratio', 'ulcer_index', 'ulcer_performance_index', 'upi', 'value_at_risk', 'var', 'volatility', 'warn', 'win_loss_ratio', 'win_rate', 'worst']\n"
     ]
    }
   ],
   "source": [
    "print(\"Available Stats:\")\n",
    "print([method for method in dir(qs.stats) if callable(getattr(qs.stats, method)) and not method.startswith(\"_\")])"
   ]
  },
  {
   "cell_type": "code",
   "execution_count": null,
   "metadata": {},
   "outputs": [
    {
     "name": "stdout",
     "output_type": "stream",
     "text": [
      "Sharpe: 0.77\n",
      "Best Day: 9.06%\n",
      "Best Day: 9.06%\n"
     ]
    }
   ],
   "source": [
    "print(f\"Sharpe: {qs.stats.sharpe(portfolio):.2f}\") # Gets the sharpe ratio of the portfolio\n",
    "print(f\"Best Day: {qs.stats.best(portfolio):.2%}\") # Gets the best day\n",
    "print(f\"Best Day: {qs.stats.best(portfolio,aggregate='M'):.2%}\")\n"
   ]
  }
 ],
 "metadata": {
  "kernelspec": {
   "display_name": "venv",
   "language": "python",
   "name": "python3"
  },
  "language_info": {
   "codemirror_mode": {
    "name": "ipython",
    "version": 3
   },
   "file_extension": ".py",
   "mimetype": "text/x-python",
   "name": "python",
   "nbconvert_exporter": "python",
   "pygments_lexer": "ipython3",
   "version": "3.12.4"
  }
 },
 "nbformat": 4,
 "nbformat_minor": 2
}
