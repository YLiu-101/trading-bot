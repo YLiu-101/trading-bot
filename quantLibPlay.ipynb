{
 "cells": [
  {
   "cell_type": "markdown",
   "metadata": {},
   "source": [
    "# Playing Around with Quant Stats\n",
    "\n",
    "Just messing around with the functions and libraries to see what kind of functionalities are in here.\n",
    "\n",
    "Quanstats documentation/code is here:\n",
    "https://github.com/ranaroussi/quantstats\n"
   ]
  },
  {
   "cell_type": "code",
   "execution_count": 1,
   "metadata": {},
   "outputs": [],
   "source": [
    "import pandas as pd\n",
    "import quantstats as qs\n",
    "import matplotlib.pyplot as plt\n",
    "import numpy as np\n",
    "import seaborn as sns\n",
    "import datetime\n",
    "import tabulate"
   ]
  },
  {
   "cell_type": "code",
   "execution_count": 2,
   "metadata": {},
   "outputs": [
    {
     "name": "stdout",
     "output_type": "stream",
     "text": [
      "Date\n",
      "2020-01-02         NaN\n",
      "2020-01-03   -0.007572\n",
      "2020-01-06    0.003815\n",
      "2020-01-07   -0.002812\n",
      "2020-01-08    0.005330\n",
      "Name: Close, dtype: float64\n"
     ]
    }
   ],
   "source": [
    "stock = \"SPY\"\n",
    "portfolio = qs.utils.download_returns(stock, period=\"5y\")\n",
    "print (portfolio.head())"
   ]
  },
  {
   "cell_type": "code",
   "execution_count": 3,
   "metadata": {},
   "outputs": [
    {
     "name": "stdout",
     "output_type": "stream",
     "text": [
      "Available Stats:\n",
      "['adjusted_sortino', 'autocorr_penalty', 'avg_loss', 'avg_return', 'avg_win', 'best', 'cagr', 'calmar', 'common_sense_ratio', 'comp', 'compare', 'compsum', 'conditional_value_at_risk', 'consecutive_losses', 'consecutive_wins', 'cpc_index', 'cvar', 'distribution', 'drawdown_details', 'expected_return', 'expected_shortfall', 'exposure', 'gain_to_pain_ratio', 'geometric_mean', 'ghpr', 'greeks', 'implied_volatility', 'information_ratio', 'kelly_criterion', 'kurtosis', 'max_drawdown', 'monthly_returns', 'omega', 'outlier_loss_ratio', 'outlier_win_ratio', 'outliers', 'payoff_ratio', 'pct_rank', 'probabilistic_adjusted_sortino_ratio', 'probabilistic_ratio', 'probabilistic_sharpe_ratio', 'probabilistic_sortino_ratio', 'profit_factor', 'profit_ratio', 'r2', 'r_squared', 'rar', 'recovery_factor', 'remove_outliers', 'risk_of_ruin', 'risk_return_ratio', 'rolling_greeks', 'rolling_sharpe', 'rolling_sortino', 'rolling_volatility', 'ror', 'serenity_index', 'sharpe', 'skew', 'smart_sharpe', 'smart_sortino', 'sortino', 'tail_ratio', 'to_drawdown_series', 'treynor_ratio', 'ulcer_index', 'ulcer_performance_index', 'upi', 'value_at_risk', 'var', 'volatility', 'warn', 'win_loss_ratio', 'win_rate', 'worst']\n"
     ]
    }
   ],
   "source": [
    "print(\"Available Stats:\")\n",
    "print([method for method in dir(qs.stats) if callable(getattr(qs.stats, method)) and not method.startswith(\"_\")])"
   ]
  },
  {
   "cell_type": "code",
   "execution_count": 4,
   "metadata": {},
   "outputs": [
    {
     "name": "stdout",
     "output_type": "stream",
     "text": [
      "Sharpe: 0.74\n",
      "Best Day: 9.06%\n",
      "Best Day: 9.06%\n",
      "0.7409372104152784\n"
     ]
    }
   ],
   "source": [
    "print(f\"Sharpe: {qs.stats.sharpe(portfolio):.2f}\") # Gets the sharpe ratio of the portfolio\n",
    "print(f\"Best Day: {qs.stats.best(portfolio):.2%}\") # Gets the best day\n",
    "print(f\"Best Day: {qs.stats.best(portfolio,aggregate='M'):.2%}\")\n",
    "print(qs.stats.sharpe(portfolio))\n"
   ]
  },
  {
   "cell_type": "code",
   "execution_count": 5,
   "metadata": {},
   "outputs": [],
   "source": [
    "qs.extend_pandas()\n"
   ]
  },
  {
   "cell_type": "code",
   "execution_count": 6,
   "metadata": {},
   "outputs": [
    {
     "name": "stdout",
     "output_type": "stream",
     "text": [
      "-0.3371726372398728\n",
      "           JAN       FEB       MAR       APR       MAY       JUN       JUL  \\\n",
      "2020 -0.009665 -0.079166 -0.124871  0.126983  0.047645  0.017734  0.058892   \n",
      "2021 -0.010190  0.027806  0.045399  0.052911  0.006566  0.022427  0.024413   \n",
      "2022 -0.052741 -0.029517  0.037590 -0.087769  0.002257 -0.082460  0.092087   \n",
      "2023  0.062888 -0.025143  0.037078  0.015975  0.004616  0.064800  0.032733   \n",
      "2024  0.015927  0.052187  0.032702 -0.040320  0.050580  0.035280  0.012109   \n",
      "\n",
      "           AUG       SEP       OCT       NOV       DEC       EOY  \n",
      "2020  0.069797 -0.037444 -0.024934  0.108777  0.037048  0.172353  \n",
      "2021  0.029760 -0.046605  0.070163 -0.008035  0.046248  0.287288  \n",
      "2022 -0.040802 -0.092446  0.081276  0.055591 -0.057628 -0.181754  \n",
      "2023 -0.016252 -0.047435 -0.021709  0.091344  0.045655  0.261758  \n",
      "2024  0.023365  0.021005 -0.008924  0.059633 -0.024060  0.248865  \n",
      "0.09627839383401526\n",
      "0.7409372104152784\n"
     ]
    }
   ],
   "source": [
    "print(portfolio.max_drawdown())\n",
    "print(portfolio.monthly_returns())\n",
    "print(portfolio.cagr())\n",
    "print(portfolio.sharpe())\n",
    "# print(portfolio.max_drawdown_date())\n",
    "# print(portfolio.max_drawdown_duration())"
   ]
  },
  {
   "cell_type": "code",
   "execution_count": 7,
   "metadata": {},
   "outputs": [],
   "source": [
    "qs.extend_pandas()"
   ]
  },
  {
   "cell_type": "code",
   "execution_count": 12,
   "metadata": {},
   "outputs": [],
   "source": [
    "IAC = {\"QQQ\": 1}\n",
    "\n",
    "# portfolio = qs.utils.make_index(IAC) # buggy\n"
   ]
  },
  {
   "cell_type": "code",
   "execution_count": 11,
   "metadata": {},
   "outputs": [
    {
     "name": "stderr",
     "output_type": "stream",
     "text": [
      "[*********************100%***********************]  1 of 1 completed\n"
     ]
    },
    {
     "name": "stdout",
     "output_type": "stream",
     "text": [
      "Price            Close        High         Low        Open    Volume\n",
      "Ticker             SPY         SPY         SPY         SPY       SPY\n",
      "Date                                                                \n",
      "2024-12-24  601.299988  601.340027  595.469971  596.059998  33160100\n",
      "2024-12-26  601.340027  602.479980  598.080017  599.500000  41219100\n",
      "2024-12-27  595.010010  597.780029  590.760010  597.539978  64969300\n",
      "2024-12-30  588.219971  591.739990  584.409973  587.890015  56578800\n",
      "2024-12-31  586.080017  590.640015  584.419983  589.909973  57052700\n"
     ]
    },
    {
     "name": "stderr",
     "output_type": "stream",
     "text": [
      "[*********************100%***********************]  1 of 1 completed"
     ]
    },
    {
     "name": "stdout",
     "output_type": "stream",
     "text": [
      "Price           Close       High        Low       Open    Volume\n",
      "Ticker            AGG        AGG        AGG        AGG       AGG\n",
      "Date                                                            \n",
      "2024-12-24  96.769997  96.779999  96.470001  96.500000   4739300\n",
      "2024-12-26  96.839996  96.879997  96.510002  96.519997  10620200\n",
      "2024-12-27  96.639999  96.889999  96.610001  96.790001   8601300\n",
      "2024-12-30  97.019997  97.080002  96.959999  97.000000  10154500\n",
      "2024-12-31  96.900002  97.209999  96.830002  97.150002  12276700\n"
     ]
    },
    {
     "name": "stderr",
     "output_type": "stream",
     "text": [
      "\n"
     ]
    }
   ],
   "source": [
    "import yfinance as yf\n",
    "data_spy = yf.download(\"SPY\", period=\"max\")\n",
    "print(data_spy.tail())\n",
    "data_agg = yf.download(\"AGG\", period=\"max\")\n",
    "print(data_agg.tail())\n",
    "\n",
    "data_spy = data_spy.dropna()\n",
    "data_agg = data_agg.dropna()\n",
    "\n",
    "\n"
   ]
  }
 ],
 "metadata": {
  "kernelspec": {
   "display_name": "venv",
   "language": "python",
   "name": "python3"
  },
  "language_info": {
   "codemirror_mode": {
    "name": "ipython",
    "version": 3
   },
   "file_extension": ".py",
   "mimetype": "text/x-python",
   "name": "python",
   "nbconvert_exporter": "python",
   "pygments_lexer": "ipython3",
   "version": "3.12.4"
  }
 },
 "nbformat": 4,
 "nbformat_minor": 2
}
